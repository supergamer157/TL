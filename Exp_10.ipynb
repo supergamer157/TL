{
  "cells": [
    {
      "cell_type": "code",
      "execution_count": 1,
      "metadata": {
        "collapsed": true,
        "id": "G_4WvPDCrkDF"
      },
      "outputs": [],
      "source": [
        "import tensorflow as tf\n",
        "from tensorflow.keras import layers, models\n",
        "from tensorflow.keras.applications import VGG16\n",
        "from tensorflow.keras.applications.vgg16 import preprocess_input\n",
        "from skimage.color import rgb2gray, gray2rgb\n",
        "from skimage.transform import resize\n",
        "import numpy as np\n",
        "import matplotlib.pyplot as plt\n",
        "\n",
        "# Load CIFAR-10\n",
        "(x_train, _), (x_test, _) = tf.keras.datasets.cifar10.load_data()\n",
        "x_train = x_train[:500].astype('float32') / 255.0\n",
        "x_test = x_test[:100].astype('float32') / 255.0\n",
        "\n",
        "# Convert to grayscale\n",
        "x_train_gray = tf.image.rgb_to_grayscale(x_train)\n",
        "x_test_gray = tf.image.rgb_to_grayscale(x_test)\n",
        "\n",
        "# Load VGG16 (include_top=True for embedding, input shape must be (224,224,3))\n",
        "vgg16 = VGG16(weights='imagenet', include_top=True)\n",
        "vgg16.trainable = False\n"
      ]
    },
    {
      "cell_type": "code",
      "source": [
        "def create_vgg_embedding(gray_imgs):\n",
        "    # Convert grayscale to RGB and resize to 224x224\n",
        "    rgb_imgs = [gray2rgb(resize(img.squeeze(), (224, 224))) for img in gray_imgs]\n",
        "    rgb_imgs = np.array(rgb_imgs)\n",
        "    rgb_imgs = preprocess_input(rgb_imgs)\n",
        "    embeddings = vgg16.predict(rgb_imgs)\n",
        "    return embeddings\n"
      ],
      "metadata": {
        "id": "YwxBY1yHyCKZ"
      },
      "execution_count": 7,
      "outputs": []
    },
    {
      "cell_type": "code",
      "source": [
        "# Colorization model with VGG fusion\n",
        "def build_fusion_colorization_model(embedding_dim=1000):\n",
        "    input_img = layers.Input(shape=(32, 32, 1), name='gray_input')\n",
        "    emd_input = layers.Input(shape=(embedding_dim,), name='vgg_embedding')\n",
        "\n",
        "    # Encoder\n",
        "    x = layers.Conv2D(64, (3, 3), activation='relu', padding='same', strides=2)(input_img)  # (16x16x64)\n",
        "    x = layers.Conv2D(128, (3, 3), activation='relu', padding='same', strides=2)(x)         # (8x8x128)\n",
        "\n",
        "    # Fusion with VGG embedding\n",
        "    fusion = layers.RepeatVector(8 * 8)(emd_input)\n",
        "    fusion = layers.Reshape((8, 8, embedding_dim))(fusion)\n",
        "    x = layers.Concatenate()([x, fusion])\n",
        "    x = layers.Conv2D(128, (1, 1), activation='relu', padding='same')(x)  # Reduce channel dimension\n",
        "\n",
        "    # Decoder\n",
        "    x = layers.UpSampling2D((2, 2))(x)  # (16x16)\n",
        "    x = layers.Conv2D(64, (3, 3), activation='relu', padding='same')(x)\n",
        "    x = layers.UpSampling2D((2, 2))(x)  # (32x32)\n",
        "    output_img = layers.Conv2D(3, (3, 3), activation='sigmoid', padding='same')(x)\n",
        "\n",
        "    model = models.Model(inputs=[input_img, emd_input], outputs=output_img)\n",
        "    return model"
      ],
      "metadata": {
        "id": "89LLwB3qyUnC"
      },
      "execution_count": 8,
      "outputs": []
    },
    {
      "cell_type": "code",
      "source": [
        "model = build_fusion_colorization_model()\n",
        "model.compile(optimizer='adam', loss='mse')\n"
      ],
      "metadata": {
        "id": "3ci34pacyWKQ"
      },
      "execution_count": 9,
      "outputs": []
    },
    {
      "cell_type": "code",
      "source": [
        "# Create training set embeddings\n",
        "x_train_gray_np = x_train_gray.numpy()\n",
        "train_embeddings = create_vgg_embedding(x_train_gray_np)\n",
        "\n",
        "# Train\n",
        "model.fit(\n",
        "    [x_train_gray_np, train_embeddings],\n",
        "    x_train,\n",
        "    epochs=10,\n",
        "    batch_size=128,\n",
        "    validation_split=0.1\n",
        ")\n",
        "\n"
      ],
      "metadata": {
        "colab": {
          "base_uri": "https://localhost:8080/"
        },
        "id": "GxaTjpwwyYtr",
        "outputId": "cadea0ba-d394-4140-f9a2-44da517df998"
      },
      "execution_count": 10,
      "outputs": [
        {
          "output_type": "stream",
          "name": "stdout",
          "text": [
            "\u001b[1m16/16\u001b[0m \u001b[32m━━━━━━━━━━━━━━━━━━━━\u001b[0m\u001b[37m\u001b[0m \u001b[1m3s\u001b[0m 166ms/step\n",
            "Epoch 1/10\n",
            "\u001b[1m4/4\u001b[0m \u001b[32m━━━━━━━━━━━━━━━━━━━━\u001b[0m\u001b[37m\u001b[0m \u001b[1m6s\u001b[0m 885ms/step - loss: 0.0607 - val_loss: 0.0591\n",
            "Epoch 2/10\n",
            "\u001b[1m4/4\u001b[0m \u001b[32m━━━━━━━━━━━━━━━━━━━━\u001b[0m\u001b[37m\u001b[0m \u001b[1m0s\u001b[0m 34ms/step - loss: 0.0566 - val_loss: 0.0504\n",
            "Epoch 3/10\n",
            "\u001b[1m4/4\u001b[0m \u001b[32m━━━━━━━━━━━━━━━━━━━━\u001b[0m\u001b[37m\u001b[0m \u001b[1m0s\u001b[0m 34ms/step - loss: 0.0453 - val_loss: 0.0343\n",
            "Epoch 4/10\n",
            "\u001b[1m4/4\u001b[0m \u001b[32m━━━━━━━━━━━━━━━━━━━━\u001b[0m\u001b[37m\u001b[0m \u001b[1m0s\u001b[0m 34ms/step - loss: 0.0293 - val_loss: 0.0250\n",
            "Epoch 5/10\n",
            "\u001b[1m4/4\u001b[0m \u001b[32m━━━━━━━━━━━━━━━━━━━━\u001b[0m\u001b[37m\u001b[0m \u001b[1m0s\u001b[0m 33ms/step - loss: 0.0216 - val_loss: 0.0222\n",
            "Epoch 6/10\n",
            "\u001b[1m4/4\u001b[0m \u001b[32m━━━━━━━━━━━━━━━━━━━━\u001b[0m\u001b[37m\u001b[0m \u001b[1m0s\u001b[0m 34ms/step - loss: 0.0205 - val_loss: 0.0229\n",
            "Epoch 7/10\n",
            "\u001b[1m4/4\u001b[0m \u001b[32m━━━━━━━━━━━━━━━━━━━━\u001b[0m\u001b[37m\u001b[0m \u001b[1m0s\u001b[0m 31ms/step - loss: 0.0201 - val_loss: 0.0200\n",
            "Epoch 8/10\n",
            "\u001b[1m4/4\u001b[0m \u001b[32m━━━━━━━━━━━━━━━━━━━━\u001b[0m\u001b[37m\u001b[0m \u001b[1m0s\u001b[0m 31ms/step - loss: 0.0180 - val_loss: 0.0194\n",
            "Epoch 9/10\n",
            "\u001b[1m4/4\u001b[0m \u001b[32m━━━━━━━━━━━━━━━━━━━━\u001b[0m\u001b[37m\u001b[0m \u001b[1m0s\u001b[0m 31ms/step - loss: 0.0171 - val_loss: 0.0186\n",
            "Epoch 10/10\n",
            "\u001b[1m4/4\u001b[0m \u001b[32m━━━━━━━━━━━━━━━━━━━━\u001b[0m\u001b[37m\u001b[0m \u001b[1m0s\u001b[0m 30ms/step - loss: 0.0169 - val_loss: 0.0184\n"
          ]
        },
        {
          "output_type": "execute_result",
          "data": {
            "text/plain": [
              "<keras.src.callbacks.history.History at 0x7d1770042dd0>"
            ]
          },
          "metadata": {},
          "execution_count": 10
        }
      ]
    },
    {
      "cell_type": "code",
      "source": [
        "# Evaluate on test set\n",
        "x_test_gray_np = x_test_gray.numpy()\n",
        "test_embeddings = create_vgg_embedding(x_test_gray_np)\n",
        "loss = model.evaluate([x_test_gray_np, test_embeddings], x_test)\n",
        "print(f\"Test MSE: {loss:.4f}\")\n",
        "\n",
        "# Predict and visualize\n",
        "predicted = model.predict([x_test_gray_np, test_embeddings])\n",
        "\n",
        "# Show sample\n",
        "index = 0\n",
        "gray_img = x_test_gray_np[index].reshape(32, 32)\n",
        "colorized_img = predicted[index]\n",
        "original_img = x_test[index]\n",
        "\n",
        "plt.figure(figsize=(9, 3))\n",
        "plt.subplot(1, 3, 1)\n",
        "plt.imshow(gray_img, cmap='gray')\n",
        "plt.title(\"Grayscale\")\n",
        "plt.axis(\"off\")\n",
        "\n",
        "plt.subplot(1, 3, 2)\n",
        "plt.imshow(colorized_img)\n",
        "plt.title(\"Colorized\")\n",
        "plt.axis(\"off\")\n",
        "\n",
        "plt.subplot(1, 3, 3)\n",
        "plt.imshow(original_img)\n",
        "plt.title(\"Original\")\n",
        "plt.axis(\"off\")\n",
        "plt.tight_layout()\n",
        "plt.show()"
      ],
      "metadata": {
        "colab": {
          "base_uri": "https://localhost:8080/",
          "height": 392
        },
        "id": "w-gpbwR-ygCT",
        "outputId": "991fc3ad-f2a5-4d5b-dc5e-639091b3b1f1"
      },
      "execution_count": 11,
      "outputs": [
        {
          "output_type": "stream",
          "name": "stdout",
          "text": [
            "\u001b[1m4/4\u001b[0m \u001b[32m━━━━━━━━━━━━━━━━━━━━\u001b[0m\u001b[37m\u001b[0m \u001b[1m1s\u001b[0m 123ms/step\n",
            "\u001b[1m4/4\u001b[0m \u001b[32m━━━━━━━━━━━━━━━━━━━━\u001b[0m\u001b[37m\u001b[0m \u001b[1m1s\u001b[0m 87ms/step - loss: 0.0162\n",
            "Test MSE: 0.0160\n",
            "\u001b[1m4/4\u001b[0m \u001b[32m━━━━━━━━━━━━━━━━━━━━\u001b[0m\u001b[37m\u001b[0m \u001b[1m1s\u001b[0m 147ms/step\n"
          ]
        },
        {
          "output_type": "display_data",
          "data": {
            "text/plain": [
              "<Figure size 900x300 with 3 Axes>"
            ],
            "image/png": "[encoded data removed]"
          },
          "metadata": {}
        }
      ]
    },
    {
      "cell_type": "code",
      "source": [],
      "metadata": {
        "id": "pnTQGReGzsqY"
      },
      "execution_count": null,
      "outputs": []
    }
  ],
  "metadata": {
    "accelerator": "GPU",
    "colab": {
      "provenance": []
    },
    "kernelspec": {
      "display_name": "Python 3",
      "language": "python",
      "name": "python3"
    },
    "language_info": {
      "codemirror_mode": {
        "name": "ipython",
        "version": 3
      },
      "file_extension": ".py",
      "mimetype": "text/x-python",
      "name": "python",
      "nbconvert_exporter": "python",
      "pygments_lexer": "ipython3",
      "version": "3.5.3"
    }
  },
  "nbformat": 4,
  "nbformat_minor": 0
}