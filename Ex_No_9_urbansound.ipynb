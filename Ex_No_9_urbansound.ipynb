{
  "cells": [
    {
      "cell_type": "code",
      "source": [
        "# Libraries\n",
        "import os\n",
        "import numpy as np\n",
        "import pandas as pd\n",
        "import librosa\n",
        "from tqdm import tqdm\n",
        "import matplotlib.pyplot as plt\n",
        "\n",
        "from sklearn.model_selection import train_test_split\n",
        "from sklearn.preprocessing import LabelEncoder\n",
        "from tensorflow.keras.utils import to_categorical\n",
        "from tensorflow.keras import layers, Sequential\n",
        "from tensorflow.keras.callbacks import EarlyStopping"
      ],
      "metadata": {
        "id": "uvtd6B9kzb-6"
      },
      "id": "uvtd6B9kzb-6",
      "execution_count": 88,
      "outputs": []
    },
    {
      "cell_type": "code",
      "source": [
        "from google.colab import drive\n",
        "drive.mount('/content/drive')"
      ],
      "metadata": {
        "id": "Z396YazK_yfG"
      },
      "id": "Z396YazK_yfG",
      "execution_count": null,
      "outputs": []
    },
    {
      "cell_type": "code",
      "source": [
        "# Load metadata\n",
        "metadata = pd.read_csv('UrbanSound8K.csv')\n",
        "# Filter only files in fold1/0\n",
        "folder_path = 'drive/MyDrive/datasets/urbansound/fold1/0'\n",
        "file_list = os.listdir(folder_path)\n",
        "print(file_list)"
      ],
      "metadata": {
        "colab": {
          "base_uri": "https://localhost:8080/"
        },
        "id": "zO-NxFRt21QM",
        "outputId": "54ffb156-6f1e-47fb-9db7-3bb4aa862f62"
      },
      "id": "zO-NxFRt21QM",
      "execution_count": 94,
      "outputs": [
        {
          "output_type": "stream",
          "name": "stdout",
          "text": [
            "['93567-8-0-1.wav', '93567-8-0-10.wav', '85574-3-0-2.wav', '159742-8-0-12.wav', '93567-8-0-0.wav', '88121-8-2-0.wav', '85574-3-0-12.wav', '85574-3-0-0.wav', '159742-8-0-11.wav', '84249-9-0-8.wav', '83502-0-0-9.wav', '83502-0-0-7.wav', '83502-0-0-8.wav', '83502-0-0-6.wav', '83502-0-0-5.wav', '83502-0-0-3.wav', '83502-0-0-4.wav', '84249-9-0-7.wav', '159742-8-0-10.wav', '84249-9-0-6.wav', '84249-9-0-3.wav', '83502-0-0-2.wav', '84249-9-0-11.wav', '162134-7-0-1.wav', '162134-7-0-0.wav', '159742-8-0-9.wav', '159742-8-0-8.wav', '159742-8-0-7.wav', '99192-4-0-7.wav', '159742-8-0-6.wav', '99192-4-0-55.wav', '99192-4-0-48.wav', '99192-4-0-49.wav', '99192-4-0-47.wav', '99192-4-0-41.wav', '99192-4-0-38.wav', '99192-4-0-54.wav', '99192-4-0-40.wav', '99192-4-0-43.wav', '99192-4-0-52.wav', '99192-4-0-53.wav', '159742-8-0-5.wav', '99192-4-0-33.wav', '99192-4-0-32.wav', '99192-4-0-30.wav', '159742-8-0-4.wav', '99192-4-0-18.wav', '99192-4-0-24.wav', '99192-4-0-20.wav', '99192-4-0-15.wav', '99192-4-0-12.wav', '99192-4-0-1.wav', '99192-4-0-3.wav', '99192-4-0-28.wav', '159742-8-0-3.wav', '99192-4-0-27.wav', '99192-4-0-26.wav', '99192-4-0-17.wav', '99192-4-0-0.wav', '97756-3-0-0.wav', '93567-8-0-9.wav', '159742-8-0-2.wav', '93567-8-0-2.wav', '93567-8-0-18.wav', '93567-8-0-8.wav', '93567-8-0-7.wav', '93567-8-0-19.wav', '93567-8-0-16.wav', '93567-8-0-17.wav', '93567-8-0-6.wav', '93567-8-0-5.wav', '93567-8-0-14.wav', '93567-8-0-15.wav', '93567-8-0-3.wav', '159742-8-0-14.wav', '93567-8-0-4.wav', '93567-8-0-13.wav', '93567-8-0-12.wav', '93567-8-0-11.wav', '159742-8-0-13.wav', '88121-8-1-0.wav', '88121-8-0-3.wav', '88121-8-0-2.wav', '88121-8-0-1.wav', '85665-3-0-0.wav', '85574-3-0-8.wav', '88121-8-0-0.wav', '162134-7-11-0.wav', '162134-7-10-3.wav', '162134-7-10-2.wav', '162134-7-10-1.wav', '162134-7-10-0.wav', '162134-7-1-0.wav', '162134-7-0-2.wav', '162134-7-11-7.wav', '162134-7-11-6.wav', '162134-7-11-5.wav', '162134-7-11-4.wav', '162134-7-11-3.wav', '162134-7-11-2.wav', '162134-7-11-1.wav', '162134-7-13-1.wav', '162134-7-13-0.wav', '162134-7-12-4.wav', '162134-7-12-3.wav', '162134-7-12-2.wav', '162134-7-12-1.wav', '162134-7-12-0.wav', '162134-7-15-0.wav', '162134-7-14-2.wav', '162134-7-14-1.wav', '162134-7-14-0.wav', '162134-7-13-4.wav', '162134-7-13-3.wav', '162134-7-13-2.wav', '162134-7-17-2.wav', '162134-7-17-1.wav', '162134-7-17-0.wav', '162134-7-16-1.wav', '162134-7-16-0.wav', '162134-7-15-4.wav', '162134-7-15-3.wav', '162134-7-15-2.wav', '162134-7-15-1.wav', '162134-7-7-0.wav', '162134-7-5-0.wav', '162134-7-4-0.wav', '162134-7-3-0.wav', '162134-7-2-0.wav', '162134-7-17-4.wav', '162134-7-17-3.wav', '101382-2-0-10.wav', '100648-1-1-0.wav', '102857-5-0-0.wav', '100648-1-0-0.wav', '102857-5-0-12.wav', '100648-1-4-0.wav', '100795-3-1-0.wav', '101382-2-0-21.wav', '100648-1-2-0.wav', '102857-5-0-11.wav', '100795-3-1-1.wav', '101382-2-0-33.wav', '102103-3-0-0.wav', '102857-5-0-10.wav', '102857-5-0-1.wav', '102103-3-1-0.wav', '101382-2-0-29.wav', '101382-2-0-12.wav', '101382-2-0-42.wav', '101382-2-0-45.wav', '100795-3-0-0.wav', '101382-2-0-20.wav', '100795-3-1-2.wav', '100648-1-3-0.wav', '102857-5-0-28.wav', '103438-5-0-2.wav', '102857-5-0-26.wav', '102857-5-0-6.wav', '102857-5-0-13.wav', '102857-5-0-29.wav', '102857-5-0-23.wav', '102857-5-0-27.wav', '102857-5-0-4.wav', '103438-5-0-1.wav', '102857-5-0-22.wav', '102857-5-0-7.wav', '102857-5-0-21.wav', '106014-5-0-0.wav', '102857-5-0-2.wav', '102857-5-0-3.wav', '102857-5-0-8.wav', '102857-5-0-18.wav', '102857-5-0-19.wav', '102857-5-0-17.wav', '102857-5-0-20.wav', '102857-5-0-15.wav', '102857-5-0-30.wav', '102857-5-0-14.wav', '103438-5-0-0.wav', '102857-5-0-25.wav', '102857-5-0-16.wav', '102857-5-0-5.wav', '102857-5-0-24.wav', '102857-5-0-9.wav', '115418-9-0-20.wav', '115241-9-0-9.wav', '106014-5-0-1.wav', '115418-9-0-29.wav', '115241-9-0-8.wav', '118278-4-0-10.wav', '115241-9-0-1.wav', '115241-9-0-14.wav', '11722-3-0-0.wav', '115418-9-0-11.wav', '11722-3-1-0.wav', '106014-5-0-2.wav', '117889-9-0-39.wav', '117889-9-0-12.wav', '117889-9-0-40.wav', '118278-4-0-12.wav', '118278-4-0-1.wav', '106014-5-0-3.wav', '118278-4-0-0.wav', '115418-9-0-15.wav', '115241-9-0-20.wav', '115418-9-0-6.wav', '106014-5-0-4.wav', '115418-9-0-12.wav', '117889-9-0-36.wav', '115241-9-0-2.wav', '117889-9-0-20.wav', '118278-4-0-13.wav', '115241-9-0-6.wav', '118278-4-0-11.wav', '117889-9-0-30.wav', '118558-5-1-0.wav', '118278-4-0-4.wav', '118278-4-0-2.wav', '118558-5-0-0.wav', '118558-5-0-1.wav', '128470-3-0-8.wav', '118558-5-2-0.wav', '128240-3-0-20.wav', '118558-5-2-2.wav', '118558-5-2-1.wav', '119067-0-0-0.wav', '118278-4-0-5.wav', '118558-5-2-3.wav', '118278-4-0-7.wav', '118278-4-0-3.wav', '118278-4-0-9.wav', '118558-5-1-2.wav', '118558-5-0-2.wav', '119067-0-0-1.wav', '128470-3-0-0.wav', '128240-3-0-39.wav', '118278-4-0-6.wav', '118558-5-1-1.wav', '128470-3-0-1.wav', '128240-3-0-1.wav', '119067-0-0-2.wav', '118278-4-0-8.wav', '128470-3-0-5.wav', '128240-3-0-42.wav', '138017-9-1-16.wav', '138017-9-1-6.wav', '138017-9-0-9.wav', '136558-9-1-39.wav', '129750-2-0-3.wav', '129750-2-0-36.wav', '14470-2-0-14.wav', '14470-2-0-21.wav', '136558-9-1-10.wav', '136558-9-0-2.wav', '129750-2-0-45.wav', '129750-2-0-48.wav', '129750-2-0-4.wav', '14468-3-0-3.wav', '136558-9-0-1.wav', '136558-9-1-26.wav', '14468-3-1-0.wav', '14470-2-0-10.wav', '141240-5-0-0.wav', '138017-9-1-4.wav', '129750-2-0-46.wav', '136558-9-1-21.wav', '138017-9-0-2.wav', '141240-5-1-0.wav', '129750-2-0-34.wav', '142641-3-0-0.wav', '14468-3-0-2.wav', '14468-3-5-0.wav', '138017-9-1-10.wav', '129750-2-0-37.wav', '155262-2-0-15.wav', '155241-9-0-69.wav', '147491-9-2-25.wav', '155241-9-0-50.wav', '14470-2-0-56.wav', '155280-2-0-10.wav', '147491-9-0-5.wav', '155262-2-0-2.wav', '155262-2-0-101.wav', '14470-2-0-65.wav', '147491-9-2-6.wav', '155262-2-0-21.wav', '155262-2-0-63.wav', '147491-9-2-10.wav', '147491-9-2-32.wav', '155262-2-0-48.wav', '147491-9-0-0.wav', '155241-9-0-8.wav', '155262-2-0-58.wav', '14470-2-0-70.wav', '14470-2-0-4.wav', '146244-4-0-0.wav', '155262-2-0-11.wav', '14470-2-0-72.wav', '155241-9-0-88.wav', '155280-2-0-11.wav', '155241-9-0-56.wav', '155241-9-0-79.wav', '155280-2-0-15.wav', '15544-5-0-1.wav', '15544-5-0-13.wav', '15544-5-0-3.wav', '155280-2-0-6.wav', '155280-2-0-13.wav', '15544-5-0-11.wav', '155311-3-0-0.wav', '15544-5-0-8.wav', '15544-5-0-0.wav', '15544-5-0-4.wav', '155280-2-0-5.wav', '15544-5-0-14.wav', '15544-5-0-16.wav', '155280-2-0-7.wav', '155280-2-0-3.wav', '15544-5-0-15.wav', '15544-5-0-19.wav', '15544-5-0-6.wav', '15544-5-0-18.wav', '15544-5-0-12.wav', '15544-5-0-7.wav', '15544-5-0-5.wav', '15544-5-0-10.wav', '15544-5-0-2.wav', '15544-5-0-17.wav', '157207-6-6-0.wav', '157207-6-3-0.wav', '157207-6-5-0.wav', '157207-6-4-0.wav', '157207-6-1-0.wav', '157207-6-7-0.wav', '157207-6-2-0.wav', '157800-6-0-0.wav', '157207-6-9-0.wav', '159709-6-0-0.wav', '15544-5-0-9.wav', '159742-8-0-1.wav', '159742-8-0-0.wav', '157207-6-8-0.wav', '157207-6-0-0.wav', '157207-6-10-0.wav', '162134-7-8-5.wav', '162134-7-7-1.wav', '162134-7-6-0.wav', '162134-7-8-3.wav', '162134-7-8-1.wav', '163459-3-0-0.wav', '162134-7-8-2.wav', '162134-7-8-4.wav', '162134-7-8-0.wav', '162148-3-0-0.wav', '165166-8-0-2.wav', '165640-4-0-2.wav', '165640-4-0-1.wav', '165166-8-0-5.wav', '165166-8-0-0.wav', '165166-8-0-4.wav', '165166-8-0-3.wav', '165640-4-0-0.wav', '164646-6-0-0.wav', '165166-8-0-1.wav', '165166-8-0-7.wav', '165166-8-0-8.wav', '165166-8-0-6.wav', '167750-4-0-0.wav', '169261-6-0-0.wav', '167750-4-3-0.wav', '17074-1-0-0.wav', '167750-4-2-0.wav', '174289-6-1-0.wav', '17486-3-0-0.wav', '175850-1-0-0.wav', '17124-1-0-0.wav', '178261-7-0-0.wav', '17486-3-1-0.wav', '174289-6-2-0.wav', '174292-6-0-0.wav', '17486-3-2-0.wav', '174289-6-3-0.wav', '175842-1-0-0.wav', '174292-6-1-0.wav', '174292-6-2-0.wav', '174289-6-0-0.wav', '180127-4-0-18.wav', '180127-4-0-15.wav', '180127-4-0-1.wav', '178826-2-0-10.wav', '180127-4-0-19.wav', '180127-4-0-14.wav', '180127-4-0-11.wav', '180127-4-0-0.wav', '180127-4-0-13.wav', '180127-4-0-17.wav', '178826-2-0-28.wav', '178826-2-0-14.wav', '179868-1-0-0.wav', '180127-4-0-12.wav', '178402-1-0-0.wav', '178826-2-0-17.wav', '178826-2-0-12.wav', '180127-4-0-16.wav', '178826-2-0-20.wav', '180127-4-0-10.wav', '178826-2-0-16.wav', '180127-4-0-20.wav', '180127-4-0-2.wav', '178826-2-0-39.wav', '181624-4-6-0.wav', '187863-4-0-2.wav', '181624-4-2-0.wav', '180127-4-0-9.wav', '180127-4-0-21.wav', '181624-4-7-0.wav', '187863-4-0-3.wav', '187863-4-0-5.wav', '187110-2-0-8.wav', '187110-2-0-10.wav', '181624-4-0-0.wav', '180127-4-0-7.wav', '181624-4-10-0.wav', '187110-2-0-30.wav', '187110-2-0-27.wav', '180127-4-0-4.wav', '181624-4-9-0.wav', '180127-4-0-6.wav', '188497-2-0-0.wav', '187110-2-0-1.wav', '180127-4-0-3.wav', '187110-2-0-6.wav', '180127-4-0-5.wav', '181624-4-4-0.wav', '187110-2-0-12.wav', '187110-2-0-34.wav', '180127-4-0-8.wav', '187863-4-0-4.wav', '181624-4-3-0.wav', '181624-4-8-0.wav', '187863-4-0-1.wav', '181624-4-1-0.wav', '181624-4-5-0.wav', '187863-4-0-0.wav', '188813-7-0-0.wav', '188497-2-0-19.wav', '188497-2-0-2.wav', '188497-2-0-17.wav', '188497-2-0-11.wav', '188813-7-12-0.wav', '188497-2-0-1.wav', '188813-7-2-0.wav', '188497-2-0-8.wav', '188497-2-0-23.wav', '189982-0-0-11.wav', '189985-0-0-3.wav', '189982-0-0-3.wav', '189982-0-0-18.wav', '189985-0-0-4.wav', '189985-0-0-1.wav', '189985-0-0-0.wav', '189982-0-0-16.wav', '189982-0-0-13.wav', '189982-0-0-6.wav', '189982-0-0-27.wav', '189982-0-0-17.wav', '189982-0-0-19.wav', '189985-0-0-2.wav', '189982-0-0-42.wav', '189982-0-0-4.wav', '189982-0-0-28.wav', '189982-0-0-7.wav', '189985-0-0-6.wav', '189982-0-0-44.wav', '189982-0-0-45.wav', '189982-0-0-38.wav', '189982-0-0-39.wav', '189982-0-0-2.wav', '189982-0-0-23.wav', '189985-0-0-5.wav', '189982-0-0-33.wav', '189982-0-0-36.wav', '189982-0-0-30.wav', '189982-0-0-20.wav', '189982-0-0-35.wav', '189982-0-0-43.wav', '196084-2-0-1.wav', '195063-4-1-0.wav', '200460-6-2-0.wav', '196084-2-0-0.wav', '196086-2-0-0.wav', '195063-4-0-0.wav', '196069-2-0-0.wav', '200460-6-3-0.wav', '200460-6-0-0.wav', '196084-2-0-2.wav', '200460-6-1-0.wav', '200460-6-4-0.wav', '200786-5-1-0.wav', '200786-5-1-3.wav', '203424-9-0-18.wav', '203424-9-0-4.wav', '200786-5-1-5.wav', '200786-5-0-0.wav', '203424-9-0-15.wav', '200460-6-5-0.wav', '203424-9-0-46.wav', '20571-3-1-0.wav', '203424-9-0-34.wav', '205013-6-0-0.wav', '200786-5-1-1.wav', '20571-3-0-0.wav', '200786-5-1-2.wav', '203424-9-0-26.wav', '200786-5-1-4.wav', '26344-4-1-0.wav', '208652-8-4-0.wav', '28808-1-0-0.wav', '26255-3-6-0.wav', '27070-2-0-0.wav', '26255-3-13-1.wav', '24076-1-0-0.wav', '27070-2-0-2.wav', '22973-3-0-0.wav', '208652-8-6-0.wav', '26173-8-0-0.wav', '26255-3-8-0.wav', '22973-3-0-2.wav', '27070-2-0-5.wav', '25037-6-0-0.wav', '23218-5-0-0.wav', '27070-2-0-4.wav', '209672-3-8-0.wav', '208652-8-2-0.wav', '28808-1-0-1.wav', '208652-8-0-0.wav', '27070-2-0-8.wav', '209672-3-0-0.wav', '26255-3-0-0.wav', '24076-1-1-0.wav', '209672-3-6-0.wav', '27070-2-0-7.wav', '25037-6-1-0.wav', '22973-3-0-1.wav', '26344-4-0-0.wav', '27070-2-0-3.wav', '209672-3-3-0.wav', '30344-3-0-3.wav', '34050-7-5-0.wav', '30344-3-0-4.wav', '28808-1-0-6.wav', '39847-5-0-10.wav', '34050-7-2-0.wav', '34050-7-4-0.wav', '34050-7-1-0.wav', '28808-1-0-9.wav', '39847-5-0-1.wav', '35628-3-0-0.wav', '30344-3-0-1.wav', '39847-5-0-2.wav', '28808-1-0-4.wav', '39847-5-0-0.wav', '2937-1-0-0.wav', '34050-7-3-0.wav', '34050-7-0-0.wav', '39847-5-0-12.wav', '28808-1-0-11.wav', '28808-1-0-5.wav', '28808-1-0-2.wav', '28808-1-0-10.wav', '28808-1-1-1.wav', '30344-3-0-0.wav', '28808-1-1-0.wav', '28808-1-0-3.wav', '28808-1-0-8.wav', '39847-5-0-3.wav', '28808-1-0-7.wav', '34050-7-6-0.wav', '39847-5-0-11.wav', '69661-3-0-14.wav', '54086-1-1-0.wav', '54086-1-0-0.wav', '39847-5-0-4.wav', '71312-3-0-4.wav', '39847-5-1-0.wav', '59513-3-0-1.wav', '54086-1-2-0.wav', '39847-5-0-7.wav', '59513-3-0-4.wav', '51024-3-0-2.wav', '72220-3-0-0.wav', '71312-3-0-2.wav', '39847-5-0-9.wav', '51024-3-0-16.wav', '66115-1-0-1.wav', '69661-3-0-23.wav', '41306-3-0-10.wav', '39847-5-0-8.wav', '41306-3-0-4.wav', '39847-5-0-5.wav', '71312-3-0-1.wav', '51024-3-0-23.wav', '59513-3-0-0.wav', '7062-6-0-0.wav', '39847-5-0-6.wav', '59513-3-0-3.wav', '69661-3-0-29.wav', '66115-1-0-0.wav', '51024-3-0-3.wav', '41306-3-0-13.wav', '71312-3-0-5.wav', '73524-0-0-114.wav', '72538-3-0-4.wav', '74364-8-1-1.wav', '73524-0-0-2.wav', '72220-3-2-3.wav', '73524-0-0-8.wav', '73524-0-0-31.wav', '73524-0-0-0.wav', '73524-0-0-73.wav', '73524-0-0-137.wav', '73524-0-0-99.wav', '73524-0-0-54.wav', '73524-0-0-92.wav', '73524-0-0-52.wav', '73524-0-0-98.wav', '73524-0-0-63.wav', '73524-0-0-105.wav', '72220-3-2-2.wav', '73524-0-0-23.wav', '73524-0-0-6.wav', '72538-3-0-3.wav', '73524-0-0-133.wav', '73524-0-0-32.wav', '72538-3-0-0.wav', '73524-0-0-126.wav', '73524-0-0-74.wav', '74364-8-1-0.wav', '72538-3-0-1.wav', '73524-0-0-101.wav', '73524-0-0-5.wav', '73524-0-0-127.wav', '73524-0-0-128.wav', '73524-0-0-113.wav', '72220-3-2-4.wav', '73524-0-0-30.wav', '74364-8-1-13.wav', '74364-8-1-8.wav', '74364-8-1-14.wav', '74364-8-1-7.wav', '74364-8-1-11.wav', '74364-8-1-17.wav', '74364-8-1-9.wav', '74364-8-1-22.wav', '74364-8-1-19.wav', '74364-8-1-20.wav', '74364-8-1-12.wav', '74364-8-1-24.wav', '74364-8-1-21.wav', '74364-8-1-27.wav', '74364-8-1-15.wav', '74364-8-1-25.wav', '74364-8-1-16.wav', '74364-8-1-26.wav', '74364-8-1-5.wav', '74364-8-1-6.wav', '74364-8-1-4.wav', '74364-8-1-2.wav', '74364-8-1-18.wav', '74364-8-1-10.wav', '74364-8-1-23.wav', '74364-8-1-3.wav', '7913-3-0-0.wav', '7965-3-16-0.wav', '83191-9-0-6.wav', '7913-3-2-0.wav', '7965-3-22-0.wav', '77927-3-1-1.wav', '7913-3-3-0.wav', '7913-3-1-0.wav', '77901-9-0-1.wav', '77927-3-0-0.wav', '83191-9-0-17.wav', '77927-3-0-2.wav', '77901-9-0-4.wav', '77901-9-0-6.wav', '83191-9-0-0.wav', '81791-3-0-0.wav', '83191-9-0-4.wav', '83191-9-0-11.wav', '77927-3-0-1.wav', '83191-9-0-13.wav', '7965-3-3-0.wav', '7965-3-11-0.wav', '77901-9-0-7.wav', '77901-9-0-3.wav', '77901-9-0-2.wav', '81791-3-0-1.wav', '77901-9-0-0.wav', '83195-9-0-11.wav', '81791-3-1-0.wav', '83195-9-0-3.wav', '83195-9-0-7.wav', '83195-9-0-2.wav', '83502-0-0-11.wav', '83195-9-0-14.wav', '84249-9-0-10.wav', '83502-0-0-13.wav', '83502-0-0-0.wav', '83502-0-0-12.wav', '83502-0-0-10.wav', '83502-0-0-1.wav', '83195-9-0-6.wav', '162134-7-8-6.wav', '164194-2-0-10.wav', '162134-7-9-4.wav', '162134-7-9-3.wav', '162134-7-9-2.wav', '162134-7-9-1.wav', '162134-7-9-0.wav', '162134-7-8-7.wav', '164377-9-0-16.wav', '164194-2-0-7.wav', '164194-2-0-29.wav', '164194-2-0-26.wav', '164194-2-0-24.wav', '164194-2-0-18.wav', '164194-2-0-14.wav', '164194-2-0-11.wav', '167464-0-0-0.wav', '164377-9-1-92.wav', '164377-9-1-50.wav', '164377-9-1-43.wav', '164377-9-1-36.wav', '164377-9-1-3.wav', '164377-9-1-15.wav', '167464-0-0-16.wav', '167464-0-0-15.wav', '167464-0-0-14.wav', '167464-0-0-13.wav', '167464-0-0-12.wav', '167464-0-0-11.wav', '167464-0-0-10.wav', '167464-0-0-1.wav', '167464-0-0-23.wav', '167464-0-0-22.wav', '167464-0-0-21.wav', '167464-0-0-20.wav', '167464-0-0-2.wav', '167464-0-0-19.wav', '167464-0-0-18.wav', '167464-0-0-17.wav', '167464-0-0-6.wav', '167464-0-0-5.wav', '167464-0-0-4.wav', '167464-0-0-3.wav', '167464-0-0-24.wav', '171478-9-0-55.wav', '171478-9-0-4.wav', '171478-9-0-38.wav', '171478-9-0-28.wav', '171478-9-0-26.wav', '167750-4-1-0.wav', '167464-0-0-9.wav', '167464-0-0-8.wav', '167464-0-0-7.wav', '172519-9-0-8.wav', '172519-9-0-67.wav', '172519-9-0-53.wav', '172519-9-0-49.wav', '172519-9-0-13.wav', '172519-9-0-10.wav', '171478-9-0-58.wav', '171478-9-0-57.wav', '178261-7-3-4.wav', '178261-7-3-3.wav', '178261-7-3-2.wav', '178261-7-3-1.wav', '178261-7-3-0.wav', '178261-7-2-0.wav', '178261-7-1-0.wav', '188813-7-11-0.wav', '188813-7-10-3.wav', '188813-7-10-2.wav', '188813-7-10-1.wav', '188813-7-10-0.wav', '188813-7-1-0.wav', '178261-7-3-6.wav', '178261-7-3-5.wav', '188813-7-7-0.wav', '188813-7-6-0.wav', '188813-7-5-0.wav', '188813-7-4-0.wav', '188813-7-3-0.wav', '188813-7-13-0.wav', '188813-7-11-1.wav', '197554-2-0-28.wav', '197554-2-0-26.wav', '197554-2-0-23.wav', '196127-3-0-4.wav', '196127-3-0-3.wav', '196127-3-0-1.wav', '196127-3-0-0.wav', '188813-7-9-0.wav', '188813-7-8-0.wav', '199261-3-0-0.wav', '197554-2-0-82.wav', '197554-2-0-74.wav', '197554-2-0-69.wav', '197554-2-0-60.wav', '197554-2-0-3.wav', '202334-9-0-202.wav', '202334-9-0-137.wav', '202334-9-0-106.wav', '202334-9-0-105.wav', '199261-3-0-4.wav', '199261-3-0-2.wav', '199261-3-0-1.wav', '207213-2-0-52.wav', '207213-2-0-41.wav', '207213-2-0-134.wav', '207213-2-0-130.wav', '207213-2-0-109.wav', '202334-9-0-88.wav', '202334-9-0-63.wav', '74922-4-0-4.wav', '74922-4-0-3.wav', '74922-4-0-2.wav', '74922-4-0-1.wav', '74922-4-0-0.wav', '207213-2-0-85.wav', '207213-2-0-81.wav', '207213-2-0-73.wav', '74922-4-0-7.wav', '74922-4-0-6.wav', '74922-4-0-5.wav']\n"
          ]
        }
      ]
    },
    {
      "cell_type": "code",
      "source": [
        "metadata_fold0 = metadata[\n",
        "    (metadata['slice_file_name'].isin(file_list))\n",
        "]"
      ],
      "metadata": {
        "id": "50Xos51g8TOk"
      },
      "id": "50Xos51g8TOk",
      "execution_count": 95,
      "outputs": []
    },
    {
      "cell_type": "code",
      "source": [
        "def extract_mfcc(file_path):\n",
        "    y, sr = librosa.load(file_path)\n",
        "    mfcc = librosa.feature.mfcc(y=y, sr=sr, n_mfcc=50)\n",
        "    return np.mean(mfcc, axis=1)\n"
      ],
      "metadata": {
        "id": "9_FfTy5d225t"
      },
      "id": "9_FfTy5d225t",
      "execution_count": 97,
      "outputs": []
    },
    {
      "cell_type": "code",
      "source": [
        "metadata_fold0"
      ],
      "metadata": {
        "colab": {
          "base_uri": "https://localhost:8080/",
          "height": 423
        },
        "id": "SLVMa-YcAH_q",
        "outputId": "7ecf8ef9-916e-4741-e0f5-69459782500e"
      },
      "id": "SLVMa-YcAH_q",
      "execution_count": 96,
      "outputs": [
        {
          "output_type": "execute_result",
          "data": {
            "text/plain": [
              "       slice_file_name    fsID      start        end  salience  fold  classID  \\\n",
              "9     100648-1-0-0.wav  100648   4.823402   5.471927         2    10        1   \n",
              "10    100648-1-1-0.wav  100648   8.998279  10.052132         2    10        1   \n",
              "11    100648-1-2-0.wav  100648  16.699509  17.104837         2    10        1   \n",
              "12    100648-1-3-0.wav  100648  17.631764  19.253075         2    10        1   \n",
              "13    100648-1-4-0.wav  100648  25.332994  27.197502         2    10        1   \n",
              "...                ...     ...        ...        ...       ...   ...      ...   \n",
              "8704  99192-4-0-52.wav   99192  26.000000  30.000000         1    10        4   \n",
              "8705  99192-4-0-53.wav   99192  26.500000  30.500000         1    10        4   \n",
              "8706  99192-4-0-54.wav   99192  27.000000  31.000000         1    10        4   \n",
              "8707  99192-4-0-55.wav   99192  27.500000  31.500000         1    10        4   \n",
              "8708   99192-4-0-7.wav   99192   3.500000   7.500000         1    10        4   \n",
              "\n",
              "         class  \n",
              "9     car_horn  \n",
              "10    car_horn  \n",
              "11    car_horn  \n",
              "12    car_horn  \n",
              "13    car_horn  \n",
              "...        ...  \n",
              "8704  drilling  \n",
              "8705  drilling  \n",
              "8706  drilling  \n",
              "8707  drilling  \n",
              "8708  drilling  \n",
              "\n",
              "[837 rows x 8 columns]"
            ],
            "text/html": [
              "\n",
              "  <div id=\"df-23f6e7a8-19ba-4a79-86fc-9c69315e20f8\" class=\"colab-df-container\">\n",
              "    <div>\n",
              "<style scoped>\n",
              "    .dataframe tbody tr th:only-of-type {\n",
              "        vertical-align: middle;\n",
              "    }\n",
              "\n",
              "    .dataframe tbody tr th {\n",
              "        vertical-align: top;\n",
              "    }\n",
              "\n",
              "    .dataframe thead th {\n",
              "        text-align: right;\n",
              "    }\n",
              "</style>\n",
              "<table border=\"1\" class=\"dataframe\">\n",
              "  <thead>\n",
              "    <tr style=\"text-align: right;\">\n",
              "      <th></th>\n",
              "      <th>slice_file_name</th>\n",
              "      <th>fsID</th>\n",
              "      <th>start</th>\n",
              "      <th>end</th>\n",
              "      <th>salience</th>\n",
              "      <th>fold</th>\n",
              "      <th>classID</th>\n",
              "      <th>class</th>\n",
              "    </tr>\n",
              "  </thead>\n",
              "  <tbody>\n",
              "    <tr>\n",
              "      <th>9</th>\n",
              "      <td>100648-1-0-0.wav</td>\n",
              "      <td>100648</td>\n",
              "      <td>4.823402</td>\n",
              "      <td>5.471927</td>\n",
              "      <td>2</td>\n",
              "      <td>10</td>\n",
              "      <td>1</td>\n",
              "      <td>car_horn</td>\n",
              "    </tr>\n",
              "    <tr>\n",
              "      <th>10</th>\n",
              "      <td>100648-1-1-0.wav</td>\n",
              "      <td>100648</td>\n",
              "      <td>8.998279</td>\n",
              "      <td>10.052132</td>\n",
              "      <td>2</td>\n",
              "      <td>10</td>\n",
              "      <td>1</td>\n",
              "      <td>car_horn</td>\n",
              "    </tr>\n",
              "    <tr>\n",
              "      <th>11</th>\n",
              "      <td>100648-1-2-0.wav</td>\n",
              "      <td>100648</td>\n",
              "      <td>16.699509</td>\n",
              "      <td>17.104837</td>\n",
              "      <td>2</td>\n",
              "      <td>10</td>\n",
              "      <td>1</td>\n",
              "      <td>car_horn</td>\n",
              "    </tr>\n",
              "    <tr>\n",
              "      <th>12</th>\n",
              "      <td>100648-1-3-0.wav</td>\n",
              "      <td>100648</td>\n",
              "      <td>17.631764</td>\n",
              "      <td>19.253075</td>\n",
              "      <td>2</td>\n",
              "      <td>10</td>\n",
              "      <td>1</td>\n",
              "      <td>car_horn</td>\n",
              "    </tr>\n",
              "    <tr>\n",
              "      <th>13</th>\n",
              "      <td>100648-1-4-0.wav</td>\n",
              "      <td>100648</td>\n",
              "      <td>25.332994</td>\n",
              "      <td>27.197502</td>\n",
              "      <td>2</td>\n",
              "      <td>10</td>\n",
              "      <td>1</td>\n",
              "      <td>car_horn</td>\n",
              "    </tr>\n",
              "    <tr>\n",
              "      <th>...</th>\n",
              "      <td>...</td>\n",
              "      <td>...</td>\n",
              "      <td>...</td>\n",
              "      <td>...</td>\n",
              "      <td>...</td>\n",
              "      <td>...</td>\n",
              "      <td>...</td>\n",
              "      <td>...</td>\n",
              "    </tr>\n",
              "    <tr>\n",
              "      <th>8704</th>\n",
              "      <td>99192-4-0-52.wav</td>\n",
              "      <td>99192</td>\n",
              "      <td>26.000000</td>\n",
              "      <td>30.000000</td>\n",
              "      <td>1</td>\n",
              "      <td>10</td>\n",
              "      <td>4</td>\n",
              "      <td>drilling</td>\n",
              "    </tr>\n",
              "    <tr>\n",
              "      <th>8705</th>\n",
              "      <td>99192-4-0-53.wav</td>\n",
              "      <td>99192</td>\n",
              "      <td>26.500000</td>\n",
              "      <td>30.500000</td>\n",
              "      <td>1</td>\n",
              "      <td>10</td>\n",
              "      <td>4</td>\n",
              "      <td>drilling</td>\n",
              "    </tr>\n",
              "    <tr>\n",
              "      <th>8706</th>\n",
              "      <td>99192-4-0-54.wav</td>\n",
              "      <td>99192</td>\n",
              "      <td>27.000000</td>\n",
              "      <td>31.000000</td>\n",
              "      <td>1</td>\n",
              "      <td>10</td>\n",
              "      <td>4</td>\n",
              "      <td>drilling</td>\n",
              "    </tr>\n",
              "    <tr>\n",
              "      <th>8707</th>\n",
              "      <td>99192-4-0-55.wav</td>\n",
              "      <td>99192</td>\n",
              "      <td>27.500000</td>\n",
              "      <td>31.500000</td>\n",
              "      <td>1</td>\n",
              "      <td>10</td>\n",
              "      <td>4</td>\n",
              "      <td>drilling</td>\n",
              "    </tr>\n",
              "    <tr>\n",
              "      <th>8708</th>\n",
              "      <td>99192-4-0-7.wav</td>\n",
              "      <td>99192</td>\n",
              "      <td>3.500000</td>\n",
              "      <td>7.500000</td>\n",
              "      <td>1</td>\n",
              "      <td>10</td>\n",
              "      <td>4</td>\n",
              "      <td>drilling</td>\n",
              "    </tr>\n",
              "  </tbody>\n",
              "</table>\n",
              "<p>837 rows × 8 columns</p>\n",
              "</div>\n",
              "    <div class=\"colab-df-buttons\">\n",
              "\n",
              "  <div class=\"colab-df-container\">\n",
              "    <button class=\"colab-df-convert\" onclick=\"convertToInteractive('df-23f6e7a8-19ba-4a79-86fc-9c69315e20f8')\"\n",
              "            title=\"Convert this dataframe to an interactive table.\"\n",
              "            style=\"display:none;\">\n",
              "\n",
              "  <svg xmlns=\"http://www.w3.org/2000/svg\" height=\"24px\" viewBox=\"0 -960 960 960\">\n",
              "    <path d=\"M120-120v-720h720v720H120Zm60-500h600v-160H180v160Zm220 220h160v-160H400v160Zm0 220h160v-160H400v160ZM180-400h160v-160H180v160Zm440 0h160v-160H620v160ZM180-180h160v-160H180v160Zm440 0h160v-160H620v160Z\"/>\n",
              "  </svg>\n",
              "    </button>\n",
              "\n",
              "  <style>\n",
              "    .colab-df-container {\n",
              "      display:flex;\n",
              "      gap: 12px;\n",
              "    }\n",
              "\n",
              "    .colab-df-convert {\n",
              "      background-color: #E8F0FE;\n",
              "      border: none;\n",
              "      border-radius: 50%;\n",
              "      cursor: pointer;\n",
              "      display: none;\n",
              "      fill: #1967D2;\n",
              "      height: 32px;\n",
              "      padding: 0 0 0 0;\n",
              "      width: 32px;\n",
              "    }\n",
              "\n",
              "    .colab-df-convert:hover {\n",
              "      background-color: #E2EBFA;\n",
              "      box-shadow: 0px 1px 2px rgba(60, 64, 67, 0.3), 0px 1px 3px 1px rgba(60, 64, 67, 0.15);\n",
              "      fill: #174EA6;\n",
              "    }\n",
              "\n",
              "    .colab-df-buttons div {\n",
              "      margin-bottom: 4px;\n",
              "    }\n",
              "\n",
              "    [theme=dark] .colab-df-convert {\n",
              "      background-color: #3B4455;\n",
              "      fill: #D2E3FC;\n",
              "    }\n",
              "\n",
              "    [theme=dark] .colab-df-convert:hover {\n",
              "      background-color: #434B5C;\n",
              "      box-shadow: 0px 1px 3px 1px rgba(0, 0, 0, 0.15);\n",
              "      filter: drop-shadow(0px 1px 2px rgba(0, 0, 0, 0.3));\n",
              "      fill: #FFFFFF;\n",
              "    }\n",
              "  </style>\n",
              "\n",
              "    <script>\n",
              "      const buttonEl =\n",
              "        document.querySelector('#df-23f6e7a8-19ba-4a79-86fc-9c69315e20f8 button.colab-df-convert');\n",
              "      buttonEl.style.display =\n",
              "        google.colab.kernel.accessAllowed ? 'block' : 'none';\n",
              "\n",
              "      async function convertToInteractive(key) {\n",
              "        const element = document.querySelector('#df-23f6e7a8-19ba-4a79-86fc-9c69315e20f8');\n",
              "        const dataTable =\n",
              "          await google.colab.kernel.invokeFunction('convertToInteractive',\n",
              "                                                    [key], {});\n",
              "        if (!dataTable) return;\n",
              "\n",
              "        const docLinkHtml = 'Like what you see? Visit the ' +\n",
              "          '<a target=\"_blank\" href=https://colab.research.google.com/notebooks/data_table.ipynb>data table notebook</a>'\n",
              "          + ' to learn more about interactive tables.';\n",
              "        element.innerHTML = '';\n",
              "        dataTable['output_type'] = 'display_data';\n",
              "        await google.colab.output.renderOutput(dataTable, element);\n",
              "        const docLink = document.createElement('div');\n",
              "        docLink.innerHTML = docLinkHtml;\n",
              "        element.appendChild(docLink);\n",
              "      }\n",
              "    </script>\n",
              "  </div>\n",
              "\n",
              "\n",
              "    <div id=\"df-ce4f8179-db2d-4578-9ca2-2cfab36a7a4d\">\n",
              "      <button class=\"colab-df-quickchart\" onclick=\"quickchart('df-ce4f8179-db2d-4578-9ca2-2cfab36a7a4d')\"\n",
              "                title=\"Suggest charts\"\n",
              "                style=\"display:none;\">\n",
              "\n",
              "<svg xmlns=\"http://www.w3.org/2000/svg\" height=\"24px\"viewBox=\"0 0 24 24\"\n",
              "     width=\"24px\">\n",
              "    <g>\n",
              "        <path d=\"M19 3H5c-1.1 0-2 .9-2 2v14c0 1.1.9 2 2 2h14c1.1 0 2-.9 2-2V5c0-1.1-.9-2-2-2zM9 17H7v-7h2v7zm4 0h-2V7h2v10zm4 0h-2v-4h2v4z\"/>\n",
              "    </g>\n",
              "</svg>\n",
              "      </button>\n",
              "\n",
              "<style>\n",
              "  .colab-df-quickchart {\n",
              "      --bg-color: #E8F0FE;\n",
              "      --fill-color: #1967D2;\n",
              "      --hover-bg-color: #E2EBFA;\n",
              "      --hover-fill-color: #174EA6;\n",
              "      --disabled-fill-color: #AAA;\n",
              "      --disabled-bg-color: #DDD;\n",
              "  }\n",
              "\n",
              "  [theme=dark] .colab-df-quickchart {\n",
              "      --bg-color: #3B4455;\n",
              "      --fill-color: #D2E3FC;\n",
              "      --hover-bg-color: #434B5C;\n",
              "      --hover-fill-color: #FFFFFF;\n",
              "      --disabled-bg-color: #3B4455;\n",
              "      --disabled-fill-color: #666;\n",
              "  }\n",
              "\n",
              "  .colab-df-quickchart {\n",
              "    background-color: var(--bg-color);\n",
              "    border: none;\n",
              "    border-radius: 50%;\n",
              "    cursor: pointer;\n",
              "    display: none;\n",
              "    fill: var(--fill-color);\n",
              "    height: 32px;\n",
              "    padding: 0;\n",
              "    width: 32px;\n",
              "  }\n",
              "\n",
              "  .colab-df-quickchart:hover {\n",
              "    background-color: var(--hover-bg-color);\n",
              "    box-shadow: 0 1px 2px rgba(60, 64, 67, 0.3), 0 1px 3px 1px rgba(60, 64, 67, 0.15);\n",
              "    fill: var(--button-hover-fill-color);\n",
              "  }\n",
              "\n",
              "  .colab-df-quickchart-complete:disabled,\n",
              "  .colab-df-quickchart-complete:disabled:hover {\n",
              "    background-color: var(--disabled-bg-color);\n",
              "    fill: var(--disabled-fill-color);\n",
              "    box-shadow: none;\n",
              "  }\n",
              "\n",
              "  .colab-df-spinner {\n",
              "    border: 2px solid var(--fill-color);\n",
              "    border-color: transparent;\n",
              "    border-bottom-color: var(--fill-color);\n",
              "    animation:\n",
              "      spin 1s steps(1) infinite;\n",
              "  }\n",
              "\n",
              "  @keyframes spin {\n",
              "    0% {\n",
              "      border-color: transparent;\n",
              "      border-bottom-color: var(--fill-color);\n",
              "      border-left-color: var(--fill-color);\n",
              "    }\n",
              "    20% {\n",
              "      border-color: transparent;\n",
              "      border-left-color: var(--fill-color);\n",
              "      border-top-color: var(--fill-color);\n",
              "    }\n",
              "    30% {\n",
              "      border-color: transparent;\n",
              "      border-left-color: var(--fill-color);\n",
              "      border-top-color: var(--fill-color);\n",
              "      border-right-color: var(--fill-color);\n",
              "    }\n",
              "    40% {\n",
              "      border-color: transparent;\n",
              "      border-right-color: var(--fill-color);\n",
              "      border-top-color: var(--fill-color);\n",
              "    }\n",
              "    60% {\n",
              "      border-color: transparent;\n",
              "      border-right-color: var(--fill-color);\n",
              "    }\n",
              "    80% {\n",
              "      border-color: transparent;\n",
              "      border-right-color: var(--fill-color);\n",
              "      border-bottom-color: var(--fill-color);\n",
              "    }\n",
              "    90% {\n",
              "      border-color: transparent;\n",
              "      border-bottom-color: var(--fill-color);\n",
              "    }\n",
              "  }\n",
              "</style>\n",
              "\n",
              "      <script>\n",
              "        async function quickchart(key) {\n",
              "          const quickchartButtonEl =\n",
              "            document.querySelector('#' + key + ' button');\n",
              "          quickchartButtonEl.disabled = true;  // To prevent multiple clicks.\n",
              "          quickchartButtonEl.classList.add('colab-df-spinner');\n",
              "          try {\n",
              "            const charts = await google.colab.kernel.invokeFunction(\n",
              "                'suggestCharts', [key], {});\n",
              "          } catch (error) {\n",
              "            console.error('Error during call to suggestCharts:', error);\n",
              "          }\n",
              "          quickchartButtonEl.classList.remove('colab-df-spinner');\n",
              "          quickchartButtonEl.classList.add('colab-df-quickchart-complete');\n",
              "        }\n",
              "        (() => {\n",
              "          let quickchartButtonEl =\n",
              "            document.querySelector('#df-ce4f8179-db2d-4578-9ca2-2cfab36a7a4d button');\n",
              "          quickchartButtonEl.style.display =\n",
              "            google.colab.kernel.accessAllowed ? 'block' : 'none';\n",
              "        })();\n",
              "      </script>\n",
              "    </div>\n",
              "\n",
              "  <div id=\"id_42976d64-3360-43bb-aaab-58b27d53568f\">\n",
              "    <style>\n",
              "      .colab-df-generate {\n",
              "        background-color: #E8F0FE;\n",
              "        border: none;\n",
              "        border-radius: 50%;\n",
              "        cursor: pointer;\n",
              "        display: none;\n",
              "        fill: #1967D2;\n",
              "        height: 32px;\n",
              "        padding: 0 0 0 0;\n",
              "        width: 32px;\n",
              "      }\n",
              "\n",
              "      .colab-df-generate:hover {\n",
              "        background-color: #E2EBFA;\n",
              "        box-shadow: 0px 1px 2px rgba(60, 64, 67, 0.3), 0px 1px 3px 1px rgba(60, 64, 67, 0.15);\n",
              "        fill: #174EA6;\n",
              "      }\n",
              "\n",
              "      [theme=dark] .colab-df-generate {\n",
              "        background-color: #3B4455;\n",
              "        fill: #D2E3FC;\n",
              "      }\n",
              "\n",
              "      [theme=dark] .colab-df-generate:hover {\n",
              "        background-color: #434B5C;\n",
              "        box-shadow: 0px 1px 3px 1px rgba(0, 0, 0, 0.15);\n",
              "        filter: drop-shadow(0px 1px 2px rgba(0, 0, 0, 0.3));\n",
              "        fill: #FFFFFF;\n",
              "      }\n",
              "    </style>\n",
              "    <button class=\"colab-df-generate\" onclick=\"generateWithVariable('metadata_fold0')\"\n",
              "            title=\"Generate code using this dataframe.\"\n",
              "            style=\"display:none;\">\n",
              "\n",
              "  <svg xmlns=\"http://www.w3.org/2000/svg\" height=\"24px\"viewBox=\"0 0 24 24\"\n",
              "       width=\"24px\">\n",
              "    <path d=\"M7,19H8.4L18.45,9,17,7.55,7,17.6ZM5,21V16.75L18.45,3.32a2,2,0,0,1,2.83,0l1.4,1.43a1.91,1.91,0,0,1,.58,1.4,1.91,1.91,0,0,1-.58,1.4L9.25,21ZM18.45,9,17,7.55Zm-12,3A5.31,5.31,0,0,0,4.9,8.1,5.31,5.31,0,0,0,1,6.5,5.31,5.31,0,0,0,4.9,4.9,5.31,5.31,0,0,0,6.5,1,5.31,5.31,0,0,0,8.1,4.9,5.31,5.31,0,0,0,12,6.5,5.46,5.46,0,0,0,6.5,12Z\"/>\n",
              "  </svg>\n",
              "    </button>\n",
              "    <script>\n",
              "      (() => {\n",
              "      const buttonEl =\n",
              "        document.querySelector('#id_42976d64-3360-43bb-aaab-58b27d53568f button.colab-df-generate');\n",
              "      buttonEl.style.display =\n",
              "        google.colab.kernel.accessAllowed ? 'block' : 'none';\n",
              "\n",
              "      buttonEl.onclick = () => {\n",
              "        google.colab.notebook.generateWithVariable('metadata_fold0');\n",
              "      }\n",
              "      })();\n",
              "    </script>\n",
              "  </div>\n",
              "\n",
              "    </div>\n",
              "  </div>\n"
            ],
            "application/vnd.google.colaboratory.intrinsic+json": {
              "type": "dataframe",
              "variable_name": "metadata_fold0",
              "summary": "{\n  \"name\": \"metadata_fold0\",\n  \"rows\": 837,\n  \"fields\": [\n    {\n      \"column\": \"slice_file_name\",\n      \"properties\": {\n        \"dtype\": \"string\",\n        \"num_unique_values\": 837,\n        \"samples\": [\n          \"157207-6-9-0.wav\",\n          \"99192-4-0-32.wav\",\n          \"117889-9-0-40.wav\"\n        ],\n        \"semantic_type\": \"\",\n        \"description\": \"\"\n      }\n    },\n    {\n      \"column\": \"fsID\",\n      \"properties\": {\n        \"dtype\": \"number\",\n        \"std\": 57543,\n        \"min\": 2937,\n        \"max\": 209672,\n        \"num_unique_values\": 124,\n        \"samples\": [\n          138017,\n          167464,\n          163459\n        ],\n        \"semantic_type\": \"\",\n        \"description\": \"\"\n      }\n    },\n    {\n      \"column\": \"start\",\n      \"properties\": {\n        \"dtype\": \"number\",\n        \"std\": 59.586541294389804,\n        \"min\": 0.0,\n        \"max\": 317.249276,\n        \"num_unique_values\": 530,\n        \"samples\": [\n          8.335201,\n          1.35891,\n          13.059155\n        ],\n        \"semantic_type\": \"\",\n        \"description\": \"\"\n      }\n    },\n    {\n      \"column\": \"end\",\n      \"properties\": {\n        \"dtype\": \"number\",\n        \"std\": 59.71311151776886,\n        \"min\": 0.311441,\n        \"max\": 321.249276,\n        \"num_unique_values\": 546,\n        \"samples\": [\n          8.677342,\n          28.0,\n          28.850495\n        ],\n        \"semantic_type\": \"\",\n        \"description\": \"\"\n      }\n    },\n    {\n      \"column\": \"salience\",\n      \"properties\": {\n        \"dtype\": \"number\",\n        \"std\": 0,\n        \"min\": 1,\n        \"max\": 2,\n        \"num_unique_values\": 2,\n        \"samples\": [\n          1,\n          2\n        ],\n        \"semantic_type\": \"\",\n        \"description\": \"\"\n      }\n    },\n    {\n      \"column\": \"fold\",\n      \"properties\": {\n        \"dtype\": \"number\",\n        \"std\": 0,\n        \"min\": 10,\n        \"max\": 10,\n        \"num_unique_values\": 1,\n        \"samples\": [\n          10\n        ],\n        \"semantic_type\": \"\",\n        \"description\": \"\"\n      }\n    },\n    {\n      \"column\": \"classID\",\n      \"properties\": {\n        \"dtype\": \"number\",\n        \"std\": 2,\n        \"min\": 0,\n        \"max\": 9,\n        \"num_unique_values\": 10,\n        \"samples\": [\n          8\n        ],\n        \"semantic_type\": \"\",\n        \"description\": \"\"\n      }\n    },\n    {\n      \"column\": \"class\",\n      \"properties\": {\n        \"dtype\": \"category\",\n        \"num_unique_values\": 10,\n        \"samples\": [\n          \"siren\"\n        ],\n        \"semantic_type\": \"\",\n        \"description\": \"\"\n      }\n    }\n  ]\n}"
            }
          },
          "metadata": {},
          "execution_count": 96
        }
      ]
    },
    {
      "cell_type": "code",
      "source": [
        "# Extract features for fold1\n",
        "data = []\n",
        "for _, row in tqdm(metadata_fold0.iterrows(), total=len(metadata_fold0)):\n",
        "    path = os.path.join(folder_path, row['slice_file_name'])\n",
        "    if os.path.exists(path):\n",
        "        mfcc = extract_mfcc(path)\n",
        "        data.append([mfcc, row['class']])"
      ],
      "metadata": {
        "colab": {
          "base_uri": "https://localhost:8080/"
        },
        "id": "KHpjSQoT24Jg",
        "outputId": "85deb790-d163-4f63-d2af-3a3d7c5a36ce"
      },
      "id": "KHpjSQoT24Jg",
      "execution_count": 98,
      "outputs": [
        {
          "output_type": "stream",
          "name": "stderr",
          "text": [
            "100%|██████████| 837/837 [11:06<00:00,  1.26it/s]\n"
          ]
        }
      ]
    },
    {
      "cell_type": "code",
      "source": [
        "# Create DataFrame\n",
        "df = pd.DataFrame(data, columns=['Features', 'Class'])\n",
        "X = np.array(df['Features'].tolist())\n",
        "\n",
        "le = LabelEncoder()\n",
        "y_encoded = le.fit_transform(df['Class'])\n",
        "y = to_categorical(y_encoded)\n",
        "\n",
        "\n",
        "# Train-test split\n",
        "X_train, X_test, y_train, y_test = train_test_split(X, y, test_size=0.2, random_state=42)\n",
        "num_classes = y.shape[1]\n"
      ],
      "metadata": {
        "id": "fdX6xS0325yd"
      },
      "id": "fdX6xS0325yd",
      "execution_count": 103,
      "outputs": []
    },
    {
      "cell_type": "code",
      "source": [
        "df['Class']"
      ],
      "metadata": {
        "colab": {
          "base_uri": "https://localhost:8080/",
          "height": 458
        },
        "id": "ksJt2jEK4Y6p",
        "outputId": "df0947d1-6161-4ac7-8d46-045083a6ce23"
      },
      "id": "ksJt2jEK4Y6p",
      "execution_count": 104,
      "outputs": [
        {
          "output_type": "execute_result",
          "data": {
            "text/plain": [
              "0      car_horn\n",
              "1      car_horn\n",
              "2      car_horn\n",
              "3      car_horn\n",
              "4      car_horn\n",
              "         ...   \n",
              "832    drilling\n",
              "833    drilling\n",
              "834    drilling\n",
              "835    drilling\n",
              "836    drilling\n",
              "Name: Class, Length: 837, dtype: object"
            ],
            "text/html": [
              "<div>\n",
              "<style scoped>\n",
              "    .dataframe tbody tr th:only-of-type {\n",
              "        vertical-align: middle;\n",
              "    }\n",
              "\n",
              "    .dataframe tbody tr th {\n",
              "        vertical-align: top;\n",
              "    }\n",
              "\n",
              "    .dataframe thead th {\n",
              "        text-align: right;\n",
              "    }\n",
              "</style>\n",
              "<table border=\"1\" class=\"dataframe\">\n",
              "  <thead>\n",
              "    <tr style=\"text-align: right;\">\n",
              "      <th></th>\n",
              "      <th>Class</th>\n",
              "    </tr>\n",
              "  </thead>\n",
              "  <tbody>\n",
              "    <tr>\n",
              "      <th>0</th>\n",
              "      <td>car_horn</td>\n",
              "    </tr>\n",
              "    <tr>\n",
              "      <th>1</th>\n",
              "      <td>car_horn</td>\n",
              "    </tr>\n",
              "    <tr>\n",
              "      <th>2</th>\n",
              "      <td>car_horn</td>\n",
              "    </tr>\n",
              "    <tr>\n",
              "      <th>3</th>\n",
              "      <td>car_horn</td>\n",
              "    </tr>\n",
              "    <tr>\n",
              "      <th>4</th>\n",
              "      <td>car_horn</td>\n",
              "    </tr>\n",
              "    <tr>\n",
              "      <th>...</th>\n",
              "      <td>...</td>\n",
              "    </tr>\n",
              "    <tr>\n",
              "      <th>832</th>\n",
              "      <td>drilling</td>\n",
              "    </tr>\n",
              "    <tr>\n",
              "      <th>833</th>\n",
              "      <td>drilling</td>\n",
              "    </tr>\n",
              "    <tr>\n",
              "      <th>834</th>\n",
              "      <td>drilling</td>\n",
              "    </tr>\n",
              "    <tr>\n",
              "      <th>835</th>\n",
              "      <td>drilling</td>\n",
              "    </tr>\n",
              "    <tr>\n",
              "      <th>836</th>\n",
              "      <td>drilling</td>\n",
              "    </tr>\n",
              "  </tbody>\n",
              "</table>\n",
              "<p>837 rows × 1 columns</p>\n",
              "</div><br><label><b>dtype:</b> object</label>"
            ]
          },
          "metadata": {},
          "execution_count": 104
        }
      ]
    },
    {
      "cell_type": "code",
      "source": [
        "# Model\n",
        "model = Sequential([\n",
        "    layers.Dense(256, activation='relu', input_shape=(50,)),\n",
        "    layers.BatchNormalization(),\n",
        "    layers.Dense(128, activation='relu'),\n",
        "    layers.BatchNormalization(),\n",
        "    layers.Dense(64, activation='relu'),\n",
        "    layers.Dense(num_classes, activation='softmax')\n",
        "])\n",
        "\n",
        "model.compile(optimizer='adam', loss='categorical_crossentropy', metrics=['accuracy'])\n",
        "model.fit(X_train, y_train, validation_data=(X_test, y_test), epochs=10, batch_size=8)\n"
      ],
      "metadata": {
        "colab": {
          "base_uri": "https://localhost:8080/"
        },
        "id": "x_qZR-hP3Vgc",
        "outputId": "2d474e19-4a6b-4961-e4a2-96df3c21f348"
      },
      "id": "x_qZR-hP3Vgc",
      "execution_count": 105,
      "outputs": [
        {
          "output_type": "stream",
          "name": "stdout",
          "text": [
            "Epoch 1/10\n"
          ]
        },
        {
          "output_type": "stream",
          "name": "stderr",
          "text": [
            "/usr/local/lib/python3.11/dist-packages/keras/src/layers/core/dense.py:87: UserWarning: Do not pass an `input_shape`/`input_dim` argument to a layer. When using Sequential models, prefer using an `Input(shape)` object as the first layer in the model instead.\n",
            "  super().__init__(activity_regularizer=activity_regularizer, **kwargs)\n"
          ]
        },
        {
          "output_type": "stream",
          "name": "stdout",
          "text": [
            "\u001b[1m84/84\u001b[0m \u001b[32m━━━━━━━━━━━━━━━━━━━━\u001b[0m\u001b[37m\u001b[0m \u001b[1m6s\u001b[0m 31ms/step - accuracy: 0.3485 - loss: 1.9725 - val_accuracy: 0.6190 - val_loss: 1.2979\n",
            "Epoch 2/10\n",
            "\u001b[1m84/84\u001b[0m \u001b[32m━━━━━━━━━━━━━━━━━━━━\u001b[0m\u001b[37m\u001b[0m \u001b[1m0s\u001b[0m 4ms/step - accuracy: 0.6772 - loss: 1.0197 - val_accuracy: 0.7798 - val_loss: 0.7620\n",
            "Epoch 3/10\n",
            "\u001b[1m84/84\u001b[0m \u001b[32m━━━━━━━━━━━━━━━━━━━━\u001b[0m\u001b[37m\u001b[0m \u001b[1m0s\u001b[0m 4ms/step - accuracy: 0.7885 - loss: 0.7270 - val_accuracy: 0.8393 - val_loss: 0.5952\n",
            "Epoch 4/10\n",
            "\u001b[1m84/84\u001b[0m \u001b[32m━━━━━━━━━━━━━━━━━━━━\u001b[0m\u001b[37m\u001b[0m \u001b[1m0s\u001b[0m 3ms/step - accuracy: 0.8372 - loss: 0.5633 - val_accuracy: 0.8690 - val_loss: 0.4776\n",
            "Epoch 5/10\n",
            "\u001b[1m84/84\u001b[0m \u001b[32m━━━━━━━━━━━━━━━━━━━━\u001b[0m\u001b[37m\u001b[0m \u001b[1m0s\u001b[0m 3ms/step - accuracy: 0.8180 - loss: 0.5432 - val_accuracy: 0.8095 - val_loss: 0.4727\n",
            "Epoch 6/10\n",
            "\u001b[1m84/84\u001b[0m \u001b[32m━━━━━━━━━━━━━━━━━━━━\u001b[0m\u001b[37m\u001b[0m \u001b[1m1s\u001b[0m 4ms/step - accuracy: 0.8168 - loss: 0.5146 - val_accuracy: 0.8512 - val_loss: 0.3876\n",
            "Epoch 7/10\n",
            "\u001b[1m84/84\u001b[0m \u001b[32m━━━━━━━━━━━━━━━━━━━━\u001b[0m\u001b[37m\u001b[0m \u001b[1m1s\u001b[0m 4ms/step - accuracy: 0.8717 - loss: 0.4105 - val_accuracy: 0.8869 - val_loss: 0.2812\n",
            "Epoch 8/10\n",
            "\u001b[1m84/84\u001b[0m \u001b[32m━━━━━━━━━━━━━━━━━━━━\u001b[0m\u001b[37m\u001b[0m \u001b[1m1s\u001b[0m 3ms/step - accuracy: 0.8710 - loss: 0.3887 - val_accuracy: 0.8929 - val_loss: 0.3250\n",
            "Epoch 9/10\n",
            "\u001b[1m84/84\u001b[0m \u001b[32m━━━━━━━━━━━━━━━━━━━━\u001b[0m\u001b[37m\u001b[0m \u001b[1m0s\u001b[0m 3ms/step - accuracy: 0.9074 - loss: 0.3293 - val_accuracy: 0.8690 - val_loss: 0.3392\n",
            "Epoch 10/10\n",
            "\u001b[1m84/84\u001b[0m \u001b[32m━━━━━━━━━━━━━━━━━━━━\u001b[0m\u001b[37m\u001b[0m \u001b[1m1s\u001b[0m 3ms/step - accuracy: 0.8927 - loss: 0.3295 - val_accuracy: 0.9345 - val_loss: 0.2584\n"
          ]
        },
        {
          "output_type": "execute_result",
          "data": {
            "text/plain": [
              "<keras.src.callbacks.history.History at 0x7f2d561a6690>"
            ]
          },
          "metadata": {},
          "execution_count": 105
        }
      ]
    },
    {
      "cell_type": "code",
      "source": [
        "model.compile(optimizer='adam', loss='categorical_crossentropy', metrics=['accuracy'])\n",
        "model.summary()"
      ],
      "metadata": {
        "colab": {
          "base_uri": "https://localhost:8080/",
          "height": 353
        },
        "id": "coy1U7sO27UV",
        "outputId": "00fd7457-205a-463a-d22e-d940f30eccd2"
      },
      "id": "coy1U7sO27UV",
      "execution_count": 106,
      "outputs": [
        {
          "output_type": "display_data",
          "data": {
            "text/plain": [
              "\u001b[1mModel: \"sequential_7\"\u001b[0m\n"
            ],
            "text/html": [
              "<pre style=\"white-space:pre;overflow-x:auto;line-height:normal;font-family:Menlo,'DejaVu Sans Mono',consolas,'Courier New',monospace\"><span style=\"font-weight: bold\">Model: \"sequential_7\"</span>\n",
              "</pre>\n"
            ]
          },
          "metadata": {}
        },
        {
          "output_type": "display_data",
          "data": {
            "text/plain": [
              "┏━━━━━━━━━━━━━━━━━━━━━━━━━━━━━━━━━┳━━━━━━━━━━━━━━━━━━━━━━━━┳━━━━━━━━━━━━━━━┓\n",
              "┃\u001b[1m \u001b[0m\u001b[1mLayer (type)                   \u001b[0m\u001b[1m \u001b[0m┃\u001b[1m \u001b[0m\u001b[1mOutput Shape          \u001b[0m\u001b[1m \u001b[0m┃\u001b[1m \u001b[0m\u001b[1m      Param #\u001b[0m\u001b[1m \u001b[0m┃\n",
              "┡━━━━━━━━━━━━━━━━━━━━━━━━━━━━━━━━━╇━━━━━━━━━━━━━━━━━━━━━━━━╇━━━━━━━━━━━━━━━┩\n",
              "│ dense_49 (\u001b[38;5;33mDense\u001b[0m)                │ (\u001b[38;5;45mNone\u001b[0m, \u001b[38;5;34m256\u001b[0m)            │        \u001b[38;5;34m13,056\u001b[0m │\n",
              "├─────────────────────────────────┼────────────────────────┼───────────────┤\n",
              "│ batch_normalization_42          │ (\u001b[38;5;45mNone\u001b[0m, \u001b[38;5;34m256\u001b[0m)            │         \u001b[38;5;34m1,024\u001b[0m │\n",
              "│ (\u001b[38;5;33mBatchNormalization\u001b[0m)            │                        │               │\n",
              "├─────────────────────────────────┼────────────────────────┼───────────────┤\n",
              "│ dense_50 (\u001b[38;5;33mDense\u001b[0m)                │ (\u001b[38;5;45mNone\u001b[0m, \u001b[38;5;34m128\u001b[0m)            │        \u001b[38;5;34m32,896\u001b[0m │\n",
              "├─────────────────────────────────┼────────────────────────┼───────────────┤\n",
              "│ batch_normalization_43          │ (\u001b[38;5;45mNone\u001b[0m, \u001b[38;5;34m128\u001b[0m)            │           \u001b[38;5;34m512\u001b[0m │\n",
              "│ (\u001b[38;5;33mBatchNormalization\u001b[0m)            │                        │               │\n",
              "├─────────────────────────────────┼────────────────────────┼───────────────┤\n",
              "│ dense_51 (\u001b[38;5;33mDense\u001b[0m)                │ (\u001b[38;5;45mNone\u001b[0m, \u001b[38;5;34m64\u001b[0m)             │         \u001b[38;5;34m8,256\u001b[0m │\n",
              "├─────────────────────────────────┼────────────────────────┼───────────────┤\n",
              "│ dense_52 (\u001b[38;5;33mDense\u001b[0m)                │ (\u001b[38;5;45mNone\u001b[0m, \u001b[38;5;34m10\u001b[0m)             │           \u001b[38;5;34m650\u001b[0m │\n",
              "└─────────────────────────────────┴────────────────────────┴───────────────┘\n"
            ],
            "text/html": [
              "<pre style=\"white-space:pre;overflow-x:auto;line-height:normal;font-family:Menlo,'DejaVu Sans Mono',consolas,'Courier New',monospace\">┏━━━━━━━━━━━━━━━━━━━━━━━━━━━━━━━━━┳━━━━━━━━━━━━━━━━━━━━━━━━┳━━━━━━━━━━━━━━━┓\n",
              "┃<span style=\"font-weight: bold\"> Layer (type)                    </span>┃<span style=\"font-weight: bold\"> Output Shape           </span>┃<span style=\"font-weight: bold\">       Param # </span>┃\n",
              "┡━━━━━━━━━━━━━━━━━━━━━━━━━━━━━━━━━╇━━━━━━━━━━━━━━━━━━━━━━━━╇━━━━━━━━━━━━━━━┩\n",
              "│ dense_49 (<span style=\"color: #0087ff; text-decoration-color: #0087ff\">Dense</span>)                │ (<span style=\"color: #00d7ff; text-decoration-color: #00d7ff\">None</span>, <span style=\"color: #00af00; text-decoration-color: #00af00\">256</span>)            │        <span style=\"color: #00af00; text-decoration-color: #00af00\">13,056</span> │\n",
              "├─────────────────────────────────┼────────────────────────┼───────────────┤\n",
              "│ batch_normalization_42          │ (<span style=\"color: #00d7ff; text-decoration-color: #00d7ff\">None</span>, <span style=\"color: #00af00; text-decoration-color: #00af00\">256</span>)            │         <span style=\"color: #00af00; text-decoration-color: #00af00\">1,024</span> │\n",
              "│ (<span style=\"color: #0087ff; text-decoration-color: #0087ff\">BatchNormalization</span>)            │                        │               │\n",
              "├─────────────────────────────────┼────────────────────────┼───────────────┤\n",
              "│ dense_50 (<span style=\"color: #0087ff; text-decoration-color: #0087ff\">Dense</span>)                │ (<span style=\"color: #00d7ff; text-decoration-color: #00d7ff\">None</span>, <span style=\"color: #00af00; text-decoration-color: #00af00\">128</span>)            │        <span style=\"color: #00af00; text-decoration-color: #00af00\">32,896</span> │\n",
              "├─────────────────────────────────┼────────────────────────┼───────────────┤\n",
              "│ batch_normalization_43          │ (<span style=\"color: #00d7ff; text-decoration-color: #00d7ff\">None</span>, <span style=\"color: #00af00; text-decoration-color: #00af00\">128</span>)            │           <span style=\"color: #00af00; text-decoration-color: #00af00\">512</span> │\n",
              "│ (<span style=\"color: #0087ff; text-decoration-color: #0087ff\">BatchNormalization</span>)            │                        │               │\n",
              "├─────────────────────────────────┼────────────────────────┼───────────────┤\n",
              "│ dense_51 (<span style=\"color: #0087ff; text-decoration-color: #0087ff\">Dense</span>)                │ (<span style=\"color: #00d7ff; text-decoration-color: #00d7ff\">None</span>, <span style=\"color: #00af00; text-decoration-color: #00af00\">64</span>)             │         <span style=\"color: #00af00; text-decoration-color: #00af00\">8,256</span> │\n",
              "├─────────────────────────────────┼────────────────────────┼───────────────┤\n",
              "│ dense_52 (<span style=\"color: #0087ff; text-decoration-color: #0087ff\">Dense</span>)                │ (<span style=\"color: #00d7ff; text-decoration-color: #00d7ff\">None</span>, <span style=\"color: #00af00; text-decoration-color: #00af00\">10</span>)             │           <span style=\"color: #00af00; text-decoration-color: #00af00\">650</span> │\n",
              "└─────────────────────────────────┴────────────────────────┴───────────────┘\n",
              "</pre>\n"
            ]
          },
          "metadata": {}
        },
        {
          "output_type": "display_data",
          "data": {
            "text/plain": [
              "\u001b[1m Total params: \u001b[0m\u001b[38;5;34m56,394\u001b[0m (220.29 KB)\n"
            ],
            "text/html": [
              "<pre style=\"white-space:pre;overflow-x:auto;line-height:normal;font-family:Menlo,'DejaVu Sans Mono',consolas,'Courier New',monospace\"><span style=\"font-weight: bold\"> Total params: </span><span style=\"color: #00af00; text-decoration-color: #00af00\">56,394</span> (220.29 KB)\n",
              "</pre>\n"
            ]
          },
          "metadata": {}
        },
        {
          "output_type": "display_data",
          "data": {
            "text/plain": [
              "\u001b[1m Trainable params: \u001b[0m\u001b[38;5;34m55,626\u001b[0m (217.29 KB)\n"
            ],
            "text/html": [
              "<pre style=\"white-space:pre;overflow-x:auto;line-height:normal;font-family:Menlo,'DejaVu Sans Mono',consolas,'Courier New',monospace\"><span style=\"font-weight: bold\"> Trainable params: </span><span style=\"color: #00af00; text-decoration-color: #00af00\">55,626</span> (217.29 KB)\n",
              "</pre>\n"
            ]
          },
          "metadata": {}
        },
        {
          "output_type": "display_data",
          "data": {
            "text/plain": [
              "\u001b[1m Non-trainable params: \u001b[0m\u001b[38;5;34m768\u001b[0m (3.00 KB)\n"
            ],
            "text/html": [
              "<pre style=\"white-space:pre;overflow-x:auto;line-height:normal;font-family:Menlo,'DejaVu Sans Mono',consolas,'Courier New',monospace\"><span style=\"font-weight: bold\"> Non-trainable params: </span><span style=\"color: #00af00; text-decoration-color: #00af00\">768</span> (3.00 KB)\n",
              "</pre>\n"
            ]
          },
          "metadata": {}
        }
      ]
    },
    {
      "cell_type": "code",
      "source": [
        "# Evaluate\n",
        "y_pred_probs = model.predict(X_test)\n",
        "y_pred = np.argmax(y_pred_probs, axis=1)\n",
        "y_true = np.argmax(y_test, axis=1)\n",
        "\n"
      ],
      "metadata": {
        "colab": {
          "base_uri": "https://localhost:8080/"
        },
        "id": "IZK0Cpeq28cP",
        "outputId": "69d61779-e427-43d9-c489-54c456c9aa4f"
      },
      "id": "IZK0Cpeq28cP",
      "execution_count": 107,
      "outputs": [
        {
          "output_type": "stream",
          "name": "stdout",
          "text": [
            "\u001b[1m6/6\u001b[0m \u001b[32m━━━━━━━━━━━━━━━━━━━━\u001b[0m\u001b[37m\u001b[0m \u001b[1m1s\u001b[0m 80ms/step\n"
          ]
        }
      ]
    },
    {
      "cell_type": "code",
      "source": [
        "# Classification report\n",
        "print(\"Classification Report:\")\n",
        "print(classification_report(y_true, y_pred, labels=list(range(num_classes)), target_names=le.classes_, zero_division=0))\n",
        "\n",
        "# Confusion matrix\n",
        "cm = confusion_matrix(y_true, y_pred, labels=list(range(num_classes)))\n",
        "plt.figure(figsize=(10, 8))\n",
        "sns.heatmap(cm, annot=True, fmt='d', cmap='Blues', xticklabels=le.classes_, yticklabels=le.classes_)\n",
        "plt.xlabel('Predicted')\n",
        "plt.ylabel('Actual')\n",
        "plt.title('Confusion Matrix')\n",
        "plt.show()\n"
      ],
      "metadata": {
        "colab": {
          "base_uri": "https://localhost:8080/",
          "height": 1000
        },
        "id": "aeN7ajBRzVDn",
        "outputId": "efa1dca2-23c7-4f32-a4ba-169e2ec639c2"
      },
      "id": "aeN7ajBRzVDn",
      "execution_count": 108,
      "outputs": [
        {
          "output_type": "stream",
          "name": "stdout",
          "text": [
            "Classification Report:\n",
            "                  precision    recall  f1-score   support\n",
            "\n",
            " air_conditioner       1.00      0.95      0.97        19\n",
            "        car_horn       1.00      0.75      0.86         4\n",
            "children_playing       0.94      0.75      0.83        20\n",
            "        dog_bark       0.88      0.95      0.91        22\n",
            "        drilling       1.00      1.00      1.00        22\n",
            "   engine_idling       1.00      0.96      0.98        24\n",
            "        gun_shot       1.00      0.83      0.91         6\n",
            "      jackhammer       1.00      1.00      1.00        15\n",
            "           siren       0.77      1.00      0.87        17\n",
            "    street_music       0.90      0.95      0.92        19\n",
            "\n",
            "        accuracy                           0.93       168\n",
            "       macro avg       0.95      0.91      0.93       168\n",
            "    weighted avg       0.94      0.93      0.93       168\n",
            "\n"
          ]
        },
        {
          "output_type": "display_data",
          "data": {
            "text/plain": [
              "<Figure size 1000x800 with 2 Axes>"
            ],
            "image/png": "[encoded data removed]"
          },
          "metadata": {}
        }
      ]
    }
  ],
  "metadata": {
    "colab": {
      "provenance": [],
      "gpuType": "T4"
    },
    "kernelspec": {
      "display_name": "Python 3",
      "name": "python3"
    },
    "language_info": {
      "codemirror_mode": {
        "name": "ipython",
        "version": 3
      },
      "file_extension": ".py",
      "mimetype": "text/x-python",
      "name": "python",
      "nbconvert_exporter": "python",
      "pygments_lexer": "ipython3",
      "version": "3.12.3"
    },
    "accelerator": "GPU"
  },
  "nbformat": 4,
  "nbformat_minor": 5
}